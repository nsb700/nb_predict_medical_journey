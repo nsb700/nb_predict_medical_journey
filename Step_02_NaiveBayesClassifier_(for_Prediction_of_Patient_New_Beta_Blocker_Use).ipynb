{
 "cells": [
  {
   "cell_type": "markdown",
   "id": "6f58134a-aa64-4858-971c-7fbd3a2840a4",
   "metadata": {},
   "source": [
    "# STEP # 2 - TRAIN NAIVE BAYES CLASSIFIER. \n",
    "## Our goal is to predict patient diagnoses, procedures, services and Rx. In the previous notebook, we only read claims data and prepared the data suitable for training. In this notebook, we train models and perform predictions."
   ]
  },
  {
   "cell_type": "code",
   "execution_count": 1,
   "id": "4b6bd74c-bba0-4f99-9590-9befa0a7083f",
   "metadata": {},
   "outputs": [],
   "source": [
    "import os\n",
    "import pandas as pd\n",
    "import numpy as np\n",
    "from ConstantsNamespace import PatientJourneyConstantsNamespace"
   ]
  },
  {
   "cell_type": "markdown",
   "id": "fb5b7d48-a226-41aa-8417-3c394e99c961",
   "metadata": {},
   "source": [
    "### Constants for file names"
   ]
  },
  {
   "cell_type": "code",
   "execution_count": 2,
   "id": "6a7b5b24-1d38-469b-b2a2-bc70d647005e",
   "metadata": {},
   "outputs": [],
   "source": [
    "constants = PatientJourneyConstantsNamespace()"
   ]
  },
  {
   "cell_type": "markdown",
   "id": "8fae17df-3462-4aee-9b7a-8f5438870be8",
   "metadata": {},
   "source": [
    "### Read the saved output of Step # 1 , i.e. \n",
    "### (1) input data on 160 features, output data on 160 features, repeat features and new features. All these are one-hot-encoded.\n",
    "### (2) Read dataframe 'unique_featureids_and_desc'which has metadata of features¶"
   ]
  },
  {
   "cell_type": "code",
   "execution_count": 3,
   "id": "63556190-fc4f-4df2-9c1c-84a6a7a48d6a",
   "metadata": {},
   "outputs": [],
   "source": [
    "featureid_id_bubbled_down_x = np.load('step_01_output/featureid_id_bubbled_down_x.npy')\n",
    "featureid_id_bubbled_down_y = np.load('step_01_output/featureid_id_bubbled_down_y.npy')\n",
    "repeat_features = np.load('step_01_output/repeat_features.npy')\n",
    "new_features = np.load('step_01_output/new_features.npy')\n",
    "\n",
    "unique_featureids_and_desc = pd.read_csv('step_01_output/unique_featureids_and_desc', sep='\\t', header=0)"
   ]
  },
  {
   "cell_type": "markdown",
   "id": "dfbc1c6e-e563-4afe-b7c7-d0fb02819958",
   "metadata": {},
   "source": [
    "### Verify the feature id for BETA BLOCKERS"
   ]
  },
  {
   "cell_type": "code",
   "execution_count": 4,
   "id": "020a83e7-2e58-43c6-8653-2f5a0804ce6a",
   "metadata": {},
   "outputs": [
    {
     "data": {
      "text/html": [
       "<div>\n",
       "<style scoped>\n",
       "    .dataframe tbody tr th:only-of-type {\n",
       "        vertical-align: middle;\n",
       "    }\n",
       "\n",
       "    .dataframe tbody tr th {\n",
       "        vertical-align: top;\n",
       "    }\n",
       "\n",
       "    .dataframe thead th {\n",
       "        text-align: right;\n",
       "    }\n",
       "</style>\n",
       "<table border=\"1\" class=\"dataframe\">\n",
       "  <thead>\n",
       "    <tr style=\"text-align: right;\">\n",
       "      <th></th>\n",
       "      <th>featureid_id</th>\n",
       "      <th>featuretype</th>\n",
       "      <th>Level1</th>\n",
       "    </tr>\n",
       "  </thead>\n",
       "  <tbody>\n",
       "    <tr>\n",
       "      <th>63</th>\n",
       "      <td>63</td>\n",
       "      <td>rx</td>\n",
       "      <td>BETA BLOCKERS</td>\n",
       "    </tr>\n",
       "  </tbody>\n",
       "</table>\n",
       "</div>"
      ],
      "text/plain": [
       "    featureid_id featuretype         Level1\n",
       "63            63          rx  BETA BLOCKERS"
      ]
     },
     "execution_count": 4,
     "metadata": {},
     "output_type": "execute_result"
    }
   ],
   "source": [
    "unique_featureids_and_desc[unique_featureids_and_desc['Level1']=='BETA BLOCKERS']"
   ]
  },
  {
   "cell_type": "markdown",
   "id": "c9a67756-432d-4523-b3f8-cc9db038b4ab",
   "metadata": {},
   "source": [
    "#### Create 'train_data' and 'test_data'. \n",
    "#### Create 'train label' and 'test_label' specifically for BETA BLOCKERS "
   ]
  },
  {
   "cell_type": "code",
   "execution_count": 5,
   "id": "ab4a5247-5621-4e98-8378-dc43e1401c78",
   "metadata": {},
   "outputs": [],
   "source": [
    "test_data   = featureid_id_bubbled_down_x[0:1000]\n",
    "test_labels = new_features[0:1000][:,63] # 63 is for BETA BLOCKERS\n",
    "\n",
    "train_data   = featureid_id_bubbled_down_x[1000:]\n",
    "train_labels = new_features[1000:][:,63] # 63 is for BETA BLOCKERS"
   ]
  },
  {
   "cell_type": "markdown",
   "id": "29038ab5-653d-46e3-a26d-0c6d9cc62fc2",
   "metadata": {},
   "source": [
    "## Our dataset features and labels are all categorical and all are one-hot-encoded. So, we don't need to make feature transformations such as standard scaling, one-hot-encoding etc.  "
   ]
  },
  {
   "cell_type": "code",
   "execution_count": 6,
   "id": "1d1a1d79-6d84-4b47-97df-38d1be9ee651",
   "metadata": {},
   "outputs": [
    {
     "data": {
      "text/html": [
       "<style>#sk-container-id-1 {color: black;}#sk-container-id-1 pre{padding: 0;}#sk-container-id-1 div.sk-toggleable {background-color: white;}#sk-container-id-1 label.sk-toggleable__label {cursor: pointer;display: block;width: 100%;margin-bottom: 0;padding: 0.3em;box-sizing: border-box;text-align: center;}#sk-container-id-1 label.sk-toggleable__label-arrow:before {content: \"▸\";float: left;margin-right: 0.25em;color: #696969;}#sk-container-id-1 label.sk-toggleable__label-arrow:hover:before {color: black;}#sk-container-id-1 div.sk-estimator:hover label.sk-toggleable__label-arrow:before {color: black;}#sk-container-id-1 div.sk-toggleable__content {max-height: 0;max-width: 0;overflow: hidden;text-align: left;background-color: #f0f8ff;}#sk-container-id-1 div.sk-toggleable__content pre {margin: 0.2em;color: black;border-radius: 0.25em;background-color: #f0f8ff;}#sk-container-id-1 input.sk-toggleable__control:checked~div.sk-toggleable__content {max-height: 200px;max-width: 100%;overflow: auto;}#sk-container-id-1 input.sk-toggleable__control:checked~label.sk-toggleable__label-arrow:before {content: \"▾\";}#sk-container-id-1 div.sk-estimator input.sk-toggleable__control:checked~label.sk-toggleable__label {background-color: #d4ebff;}#sk-container-id-1 div.sk-label input.sk-toggleable__control:checked~label.sk-toggleable__label {background-color: #d4ebff;}#sk-container-id-1 input.sk-hidden--visually {border: 0;clip: rect(1px 1px 1px 1px);clip: rect(1px, 1px, 1px, 1px);height: 1px;margin: -1px;overflow: hidden;padding: 0;position: absolute;width: 1px;}#sk-container-id-1 div.sk-estimator {font-family: monospace;background-color: #f0f8ff;border: 1px dotted black;border-radius: 0.25em;box-sizing: border-box;margin-bottom: 0.5em;}#sk-container-id-1 div.sk-estimator:hover {background-color: #d4ebff;}#sk-container-id-1 div.sk-parallel-item::after {content: \"\";width: 100%;border-bottom: 1px solid gray;flex-grow: 1;}#sk-container-id-1 div.sk-label:hover label.sk-toggleable__label {background-color: #d4ebff;}#sk-container-id-1 div.sk-serial::before {content: \"\";position: absolute;border-left: 1px solid gray;box-sizing: border-box;top: 0;bottom: 0;left: 50%;z-index: 0;}#sk-container-id-1 div.sk-serial {display: flex;flex-direction: column;align-items: center;background-color: white;padding-right: 0.2em;padding-left: 0.2em;position: relative;}#sk-container-id-1 div.sk-item {position: relative;z-index: 1;}#sk-container-id-1 div.sk-parallel {display: flex;align-items: stretch;justify-content: center;background-color: white;position: relative;}#sk-container-id-1 div.sk-item::before, #sk-container-id-1 div.sk-parallel-item::before {content: \"\";position: absolute;border-left: 1px solid gray;box-sizing: border-box;top: 0;bottom: 0;left: 50%;z-index: -1;}#sk-container-id-1 div.sk-parallel-item {display: flex;flex-direction: column;z-index: 1;position: relative;background-color: white;}#sk-container-id-1 div.sk-parallel-item:first-child::after {align-self: flex-end;width: 50%;}#sk-container-id-1 div.sk-parallel-item:last-child::after {align-self: flex-start;width: 50%;}#sk-container-id-1 div.sk-parallel-item:only-child::after {width: 0;}#sk-container-id-1 div.sk-dashed-wrapped {border: 1px dashed gray;margin: 0 0.4em 0.5em 0.4em;box-sizing: border-box;padding-bottom: 0.4em;background-color: white;}#sk-container-id-1 div.sk-label label {font-family: monospace;font-weight: bold;display: inline-block;line-height: 1.2em;}#sk-container-id-1 div.sk-label-container {text-align: center;}#sk-container-id-1 div.sk-container {/* jupyter's `normalize.less` sets `[hidden] { display: none; }` but bootstrap.min.css set `[hidden] { display: none !important; }` so we also need the `!important` here to be able to override the default hidden behavior on the sphinx rendered scikit-learn.org. See: https://github.com/scikit-learn/scikit-learn/issues/21755 */display: inline-block !important;position: relative;}#sk-container-id-1 div.sk-text-repr-fallback {display: none;}</style><div id=\"sk-container-id-1\" class=\"sk-top-container\"><div class=\"sk-text-repr-fallback\"><pre>CategoricalNB(force_alpha=True)</pre><b>In a Jupyter environment, please rerun this cell to show the HTML representation or trust the notebook. <br />On GitHub, the HTML representation is unable to render, please try loading this page with nbviewer.org.</b></div><div class=\"sk-container\" hidden><div class=\"sk-item\"><div class=\"sk-estimator sk-toggleable\"><input class=\"sk-toggleable__control sk-hidden--visually\" id=\"sk-estimator-id-1\" type=\"checkbox\" checked><label for=\"sk-estimator-id-1\" class=\"sk-toggleable__label sk-toggleable__label-arrow\">CategoricalNB</label><div class=\"sk-toggleable__content\"><pre>CategoricalNB(force_alpha=True)</pre></div></div></div></div></div>"
      ],
      "text/plain": [
       "CategoricalNB(force_alpha=True)"
      ]
     },
     "execution_count": 6,
     "metadata": {},
     "output_type": "execute_result"
    }
   ],
   "source": [
    "# Let's try the ComplementNB and CategoricalNB flavors of the Naive Bayes\n",
    "from sklearn.naive_bayes import ComplementNB, CategoricalNB\n",
    "from sklearn.metrics import confusion_matrix\n",
    "\n",
    "complementNB_clf = ComplementNB(force_alpha=True)\n",
    "complementNB_clf.fit(train_data, train_labels)\n",
    "\n",
    "categoricalNB_clf = CategoricalNB(force_alpha=True)\n",
    "categoricalNB_clf.fit(train_data, train_labels)"
   ]
  },
  {
   "cell_type": "code",
   "execution_count": 7,
   "id": "3b77232a-3a2c-4aec-9675-db477afea8ff",
   "metadata": {},
   "outputs": [],
   "source": [
    "def get_normalized_train_and_test_confusion_matrices(clf):\n",
    "    # Predict on both train and test data\n",
    "    train_preds = clf.predict(train_data)\n",
    "    test_preds = clf.predict(test_data)\n",
    "\n",
    "    # Confusion matrix for predictions on train data \n",
    "    train_conf_mat = confusion_matrix(train_labels, train_preds)\n",
    "    # Normalize values by dividing by the rowsums\n",
    "    train_row_sums = train_conf_mat.sum(axis=1, keepdims=True)\n",
    "    train_norm_conf_mat = train_conf_mat/train_row_sums\n",
    "    \n",
    "    # Confusion matrix for predictions on test data \n",
    "    test_conf_mat = confusion_matrix(test_labels, test_preds)\n",
    "    # Normalize values by dividing by the rowsums\n",
    "    test_row_sums = test_conf_mat.sum(axis=1, keepdims=True)\n",
    "    test_norm_conf_mat = test_conf_mat/test_row_sums\n",
    "\n",
    "    print('Confusion Matrices for Classifier:', clf.__class__.__name__)\n",
    "    print('\\nNormalized Confusion Matrix on Train Data\\n', train_norm_conf_mat)\n",
    "    print('\\nNormalized Confusion Matrix on Test Data\\n', test_norm_conf_mat)\n",
    "    \n",
    "    return train_norm_conf_mat, test_norm_conf_mat"
   ]
  },
  {
   "cell_type": "code",
   "execution_count": 8,
   "id": "25a409ed-d2ac-41fb-ac66-c6fd18507168",
   "metadata": {},
   "outputs": [],
   "source": [
    "import matplotlib.pyplot as plt\n",
    "\n",
    "def plot_normalized_train_and_test_confusion_matrices(train_norm_conf_mat, test_norm_conf_mat):\n",
    "    np.fill_diagonal(train_norm_conf_mat, 0)\n",
    "    np.fill_diagonal(test_norm_conf_mat, 0)\n",
    "\n",
    "    fig, axs = plt.subplots(1, 2, figsize=(6,3))\n",
    "    fig.subplots_adjust(top=0.7)\n",
    "    axs[0].matshow(train_norm_conf_mat, cmap=plt.cm.gray)\n",
    "    axs[0].set_xlabel('Predicted')\n",
    "    axs[0].set_ylabel('Actual')\n",
    "    axs[0].set_title('Train Data')\n",
    "\n",
    "    \n",
    "    axs[1].matshow(test_norm_conf_mat, cmap=plt.cm.gray)\n",
    "    axs[1].set_xlabel('Predicted')\n",
    "    axs[1].set_ylabel('Actual')\n",
    "    axs[1].set_title('Test Data')\n",
    "\n",
    "    fig.suptitle('. '.join(['Normalized Confusion Matrices', 'Diagonals zeroed as we are interested in errors', 'Bright Areas imply misclassification']))"
   ]
  },
  {
   "cell_type": "markdown",
   "id": "fc2dc580-43c8-41cd-b3c9-f819ef0fefb8",
   "metadata": {},
   "source": [
    "## Get confusion matrix for ComplementNB"
   ]
  },
  {
   "cell_type": "code",
   "execution_count": 9,
   "id": "a6aaa711-1870-4f31-ba36-e32f407c8059",
   "metadata": {},
   "outputs": [
    {
     "name": "stdout",
     "output_type": "stream",
     "text": [
      "Confusion Matrices for Classifier: ComplementNB\n",
      "\n",
      "Normalized Confusion Matrix on Train Data\n",
      " [[0.70972578 0.29027422]\n",
      " [0.27390972 0.72609028]]\n",
      "\n",
      "Normalized Confusion Matrix on Test Data\n",
      " [[0.63673058 0.36326942]\n",
      " [0.11111111 0.88888889]]\n"
     ]
    }
   ],
   "source": [
    "train_norm_conf_mat, test_norm_conf_mat = get_normalized_train_and_test_confusion_matrices(complementNB_clf)"
   ]
  },
  {
   "cell_type": "markdown",
   "id": "869793c3-087f-4fd2-a0eb-8f692506a014",
   "metadata": {},
   "source": [
    "### From above confusion matrix, we see that on train data, the model correctly predicts label=1, ~72.6% of the times whereas on the test data, it is correct ~88.9% of the times - This is a very good number considering how simple Naive Bayes implementation is.\n",
    "\n",
    "### Let's closely analyze the error predictions though. For this, let's zero out the diagonals (i.e. the correct predictions) and only look at the errors (non-diagnonals). In the plot below, 0 will be in complete black color and 1 will be completely white. Columns are the predicted values and rows are actual values. Observe, that on test data, there is a fair amount of misclassification where label=0 is wrongly predicted as label=1 (white color). This might actually be OK - because when one wants to predict who will use BETA BLOCKERS, one might not care about the False Positives. One would actually want to look into these cases and make a judgment considering other factors.  "
   ]
  },
  {
   "cell_type": "code",
   "execution_count": 10,
   "id": "a9b0fc15-323c-401f-b4e5-9410e191b302",
   "metadata": {},
   "outputs": [
    {
     "data": {
      "image/png": "[encoded data removed]",
      "text/plain": [
       "<Figure size 600x300 with 2 Axes>"
      ]
     },
     "metadata": {},
     "output_type": "display_data"
    }
   ],
   "source": [
    "plot_normalized_train_and_test_confusion_matrices(train_norm_conf_mat, test_norm_conf_mat)"
   ]
  },
  {
   "cell_type": "markdown",
   "id": "16dc7e37-ae62-47d7-976d-23357d32836c",
   "metadata": {},
   "source": [
    "## Get confusion matrix for CategoricalNB"
   ]
  },
  {
   "cell_type": "code",
   "execution_count": 11,
   "id": "0f632fb9-1fab-4bce-a239-2a503001c113",
   "metadata": {},
   "outputs": [
    {
     "name": "stdout",
     "output_type": "stream",
     "text": [
      "Confusion Matrices for Classifier: CategoricalNB\n",
      "\n",
      "Normalized Confusion Matrix on Train Data\n",
      " [[0.89290617 0.10709383]\n",
      " [0.61897475 0.38102525]]\n",
      "\n",
      "Normalized Confusion Matrix on Test Data\n",
      " [[0.9172553  0.0827447 ]\n",
      " [0.55555556 0.44444444]]\n"
     ]
    }
   ],
   "source": [
    "train_norm_conf_mat, test_norm_conf_mat = get_normalized_train_and_test_confusion_matrices(categoricalNB_clf)"
   ]
  },
  {
   "cell_type": "markdown",
   "id": "81457891-89fc-4383-8356-389469e2804f",
   "metadata": {},
   "source": [
    "### From above confusion matrix, we see that on train data, the model correctly predicts label=1, ~38.1% of the times whereas on the test data, it is correct ~44.44% of the times. This is way worse than numbers we saw above for ComplementNB.\n",
    "\n",
    "### Let's do a similar plot by zeroing the diagonals and seeing the errors. We can see that on test data, there is high misclassification where label=1 is wrongly predicted as label=0 (False Negative). In general, this is not good as we're missing more patients. "
   ]
  },
  {
   "cell_type": "code",
   "execution_count": 12,
   "id": "632d0530-2113-4840-8695-274c4e561b2a",
   "metadata": {},
   "outputs": [
    {
     "data": {
      "image/png": "[encoded data removed]",
      "text/plain": [
       "<Figure size 600x300 with 2 Axes>"
      ]
     },
     "metadata": {},
     "output_type": "display_data"
    }
   ],
   "source": [
    "plot_normalized_train_and_test_confusion_matrices(train_norm_conf_mat, test_norm_conf_mat)"
   ]
  }
 ],
 "metadata": {
  "kernelspec": {
   "display_name": "Python 3 (ipykernel)",
   "language": "python",
   "name": "python3"
  },
  "language_info": {
   "codemirror_mode": {
    "name": "ipython",
    "version": 3
   },
   "file_extension": ".py",
   "mimetype": "text/x-python",
   "name": "python",
   "nbconvert_exporter": "python",
   "pygments_lexer": "ipython3",
   "version": "3.10.12"
  }
 },
 "nbformat": 4,
 "nbformat_minor": 5
}
